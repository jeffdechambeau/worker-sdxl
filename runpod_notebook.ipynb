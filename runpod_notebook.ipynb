{
  "cells": [
    {
      "cell_type": "code",
      "execution_count": null,
      "metadata": {},
      "outputs": [],
      "source": []
    },
    {
      "cell_type": "markdown",
      "metadata": {},
      "source": []
    },
    {
      "cell_type": "code",
      "execution_count": null,
      "metadata": {},
      "outputs": [],
      "source": [
        "# Install core dependencies\n",
        "!apt-get update && apt-get install -y --no-install-recommends \\\n",
        "    python3-dev python3-pip python3.10-venv libopencv-dev git wget curl vim zip unzip\n",
        "!apt-get clean && rm -rf /var/lib/apt/lists/*\n"
      ]
    },
    {
      "cell_type": "code",
      "execution_count": null,
      "metadata": {},
      "outputs": [],
      "source": [
        "# Setting up Python\n",
        "!ln -s /usr/bin/python3.10 /usr/bin/python\n",
        "!python3 -m venv --system-site-packages /venv/stable-diffusion-webui\n",
        "!/venv/stable-diffusion-webui/bin/pip install --no-cache-dir -r /workspace/stable-diffusion-webui/requirements.txt xformers\n",
        "!/venv/stable-diffusion-webui/bin/pip cache purge\n",
        "!rm -rf /root/.cache/pip\n"
      ]
    },
    {
      "cell_type": "code",
      "execution_count": null,
      "metadata": {},
      "outputs": [],
      "source": [
        "# Install extensions (Adetailer, ControlNet, API Payload Display)\n",
        "!source /venv/stable-diffusion-webui/bin/activate && \\\n",
        "!python3 /workspace/stable-diffusion-webui/install-automatic.py --skip-torch-cuda-test\n",
        "!git clone --depth=1 https://github.com/Bing-su/adetailer.git /workspace/stable-diffusion-webui/extensions/adetailer\n",
        "!cd /workspace/stable-diffusion-webui/extensions/adetailer && /venv/stable-diffusion-webui/bin/pip install . segment_anything lama_cleaner\n",
        "!git clone --depth=1 https://github.com/Mikubill/sd-webui-controlnet.git /workspace/stable-diffusion-webui/extensions/sd-webui-controlnet\n",
        "!/venv/stable-diffusion-webui/bin/pip install -r /workspace/stable-diffusion-webui/extensions/sd-webui-controlnet/requirements.txt\n",
        "!git clone --depth=1 https://github.com/huchenlei/sd-webui-api-payload-display.git /workspace/stable-diffusion-webui/extensions/sd-webui-api-payload-display\n",
        "!/venv/stable-diffusion-webui/bin/pip cache purge\n",
        "!rm -rf /root/.cache/pip /root/.cache/huggingface_hub\n"
      ]
    },
    {
      "cell_type": "code",
      "execution_count": null,
      "metadata": {},
      "outputs": [],
      "source": [
        "# Launch the Stable Diffusion Web UI\n",
        "!/venv/stable-diffusion-webui/bin/python /workspace/stable-diffusion-webui/webui.py --api --port 3000 > /workspace/logs/webui.log 2>&1 &\n",
        "# The & at the end of the command is to run the process in the background\n",
        "# This log file is more appropriate for a user access pod where the logs are not ephemeral\n"
      ]
    }
  ],
  "metadata": {
    "kernelspec": {
      "display_name": "Python 3.10",
      "language": "python",
      "name": "python3"
    },
    "language_info": {
      "codemirror_mode": {
        "name": "ipython",
        "version": 3
      },
      "file_extension": ".py",
      "mimetype": "text/x-python",
      "name": "python",
      "nbconvert_exporter": "python",
      "pygments_lexer": "ipython3",
      "version": "3.10"
    }
  },
  "nbformat": 4,
  "nbformat_minor": 2
}
