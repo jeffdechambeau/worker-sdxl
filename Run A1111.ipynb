{
 "cells": [
  {
   "cell_type": "code",
   "execution_count": null,
   "metadata": {},
   "outputs": [],
   "source": [
    "# Set up VM env\n",
    "!rm -r /venv\n",
    "!python3 -m venv /venv\n",
    "!source /venv/bin/activate\n",
    "!pip install -r /workspace/stable-diffusion-webui/requirements.txt\n",
    "!python /workspace/stable-diffusion-webui/install-automatic.py --skip-torch-cuda-test\n",
    "\n",
    "!pip install -r /workspace/stable-diffusion-webui/extensions/sd-webui-controlnet/requirements.txt\n",
    "!pip install git+https://github.com/openai/CLIP.git\n",
    "\n",
    "%cd /workspace/stable-diffusion-webui/extensions/adetailer\n",
    "!pip install .\n",
    "#!pip install segment_anything lama_cleaner"
   ]
  },
  {
   "cell_type": "code",
   "execution_count": null,
   "metadata": {},
   "outputs": [],
   "source": [
    "# Launch the Stable Diffusion Web UI\n",
    "import gradio;gradio.close_all()\n",
    "!python /workspace/stable-diffusion-webui/webui.py --share --no-half --disable-nan-check\n"
   ]
  },
  {
   "cell_type": "code",
   "execution_count": null,
   "metadata": {},
   "outputs": [],
   "source": [
    "#@title Create symbolic custom model links\n",
    "\n",
    "import os\n",
    "import sys\n",
    "\n",
    "def create_symlinks(target_folder, source_folder):\n",
    "    if not os.path.exists(target_folder):\n",
    "        print(f\"Target folder '{target_folder}' does not exist.\")\n",
    "        return\n",
    "\n",
    "    if not os.path.isdir(target_folder):\n",
    "        print(f\"Target path '{target_folder}' is not a directory.\")\n",
    "        return\n",
    "\n",
    "    if not os.path.exists(source_folder):\n",
    "        print(f\"Source folder '{source_folder}' does not exist.\")\n",
    "        return\n",
    "\n",
    "    if not os.path.isdir(source_folder):\n",
    "        print(f\"Source path '{source_folder}' is not a directory.\")\n",
    "        return\n",
    "\n",
    "    for file in os.listdir(source_folder):\n",
    "        source_file = os.path.join(source_folder, file)\n",
    "        target_link = os.path.join(target_folder, file)\n",
    "\n",
    "        if os.path.exists(target_link):\n",
    "            print(f\"Skipping '{file}' as a link or file already exists in the target directory.\")\n",
    "            continue\n",
    "\n",
    "        os.symlink(source_file, target_link)\n",
    "        print(f\"Symbolic link created for '{file}'\")\n",
    "\n",
    "\n",
    "create_symlinks(\"/workspace/stable-diffusion-webui/models/Stable-diffusion\", \"/workspace/witit-custom/checkpoints\")\n"
   ]
  },
  {
   "cell_type": "code",
   "execution_count": null,
   "metadata": {},
   "outputs": [],
   "source": [
    "#@title Remove custom symbolic links\n",
    "import os\n",
    "\n",
    "directory = '/workspace/stable-diffusion-webui/models/Stable-diffusion'\n",
    "\n",
    "for file in os.listdir(directory):\n",
    "    full_path = os.path.join(directory, file)\n",
    "    if os.path.islink(full_path):\n",
    "        print(f\"Deleting symlink: {full_path}\")\n",
    "        os.unlink(full_path)\n"
   ]
  }
 ],
 "metadata": {
  "kernelspec": {
   "display_name": "Python 3 (ipykernel)",
   "language": "python",
   "name": "python3"
  },
  "language_info": {
   "codemirror_mode": {
    "name": "ipython",
    "version": 3
   },
   "file_extension": ".py",
   "mimetype": "text/x-python",
   "name": "python",
   "nbconvert_exporter": "python",
   "pygments_lexer": "ipython3",
   "version": "3.10.12"
  }
 },
 "nbformat": 4,
 "nbformat_minor": 4
}
