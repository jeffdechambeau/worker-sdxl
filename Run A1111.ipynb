{
 "cells": [
  {
   "cell_type": "code",
   "execution_count": null,
   "metadata": {},
   "outputs": [],
   "source": [
    "# Set up VM env\n",
    "!rm -r /venv\n",
    "!python3 -m venv /venv\n",
    "!source /venv/bin/activate\n",
    "!pip install -r /workspace/stable-diffusion-webui/requirements.txt\n",
    "!python /workspace/stable-diffusion-webui/install-automatic.py --skip-torch-cuda-test\n",
    "\n",
    "!pip install -r /workspace/stable-diffusion-webui/extensions/sd-webui-controlnet/requirements.txt\n",
    "!pip install git+https://github.com/openai/CLIP.git\n",
    "\n",
    "%cd /workspace/stable-diffusion-webui/extensions/adetailer\n",
    "!pip install .\n",
    "#!pip install segment_anything lama_cleaner"
   ]
  },
  {
   "cell_type": "code",
   "execution_count": null,
   "metadata": {},
   "outputs": [],
   "source": [
    "# Launch the Stable Diffusion Web UI\n",
    "import gradio;gradio.close_all()\n",
    "!python /workspace/stable-diffusion-webui/webui.py --share --no-half --disable-nan-check\n"
   ]
  }
 ],
 "metadata": {
  "kernelspec": {
   "display_name": "Python 3 (ipykernel)",
   "language": "python",
   "name": "python3"
  },
  "language_info": {
   "codemirror_mode": {
    "name": "ipython",
    "version": 3
   },
   "file_extension": ".py",
   "mimetype": "text/x-python",
   "name": "python",
   "nbconvert_exporter": "python",
   "pygments_lexer": "ipython3",
   "version": "3.10.12"
  }
 },
 "nbformat": 4,
 "nbformat_minor": 4
}
